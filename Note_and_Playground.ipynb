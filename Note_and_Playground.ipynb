{
 "cells": [
  {
   "cell_type": "markdown",
   "metadata": {},
   "source": [
    "# LANL Earthquake prediction"
   ]
  },
  {
   "cell_type": "code",
   "execution_count": 1,
   "metadata": {},
   "outputs": [
    {
     "name": "stderr",
     "output_type": "stream",
     "text": [
      "/home/ubuntu/anaconda3/envs/python3/lib/python3.6/site-packages/matplotlib/__init__.py:1067: UserWarning: Duplicate key in file \"/home/ubuntu/.config/matplotlib/matplotlibrc\", line #2\n",
      "  (fname, cnt))\n",
      "/home/ubuntu/anaconda3/envs/python3/lib/python3.6/site-packages/matplotlib/__init__.py:1067: UserWarning: Duplicate key in file \"/home/ubuntu/.config/matplotlib/matplotlibrc\", line #3\n",
      "  (fname, cnt))\n"
     ]
    }
   ],
   "source": [
    "import numpy as np\n",
    "import pandas as pd\n",
    "import matplotlib.pyplot as plt\n",
    "import scipy.signal\n",
    "import scipy.stats\n",
    "from tqdm import tqdm_notebook\n",
    "import xgboost as xgb\n",
    "\n",
    "from sklearn.ensemble import RandomForestRegressor\n",
    "from sklearn.metrics import r2_score, mean_absolute_error\n",
    "from sklearn.model_selection import train_test_split, KFold, cross_val_score\n",
    "from sklearn.preprocessing import scale\n",
    "from sklearn.linear_model import LinearRegression\n",
    "\n",
    "import os\n"
   ]
  },
  {
   "cell_type": "code",
   "execution_count": 2,
   "metadata": {},
   "outputs": [],
   "source": [
    "train_ori = pd.read_csv('train.csv', dtype={'acoustic_data': np.int16, 'time_to_failure': np.float32})"
   ]
  },
  {
   "cell_type": "code",
   "execution_count": 3,
   "metadata": {},
   "outputs": [],
   "source": [
    "# This is a index where first failure occured, used to split a validation set\n",
    "sec_to_fail = 50085879\n",
    "test = train_ori.iloc[:sec_to_fail, :]\n",
    "train = train_ori.iloc[sec_to_fail:, :]"
   ]
  },
  {
   "cell_type": "code",
   "execution_count": 4,
   "metadata": {},
   "outputs": [
    {
     "name": "stdout",
     "output_type": "stream",
     "text": [
      "579059601\n",
      "50085879\n"
     ]
    }
   ],
   "source": [
    "print(len(train))\n",
    "print(len(test))"
   ]
  },
  {
   "cell_type": "code",
   "execution_count": 47,
   "metadata": {},
   "outputs": [
    {
     "data": {
      "text/plain": [
       "acoustic_data       1.0000\n",
       "time_to_failure    14.1806\n",
       "Name: 50085878, dtype: float32"
      ]
     },
     "execution_count": 47,
     "metadata": {},
     "output_type": "execute_result"
    }
   ],
   "source": [
    "train_ori.iloc[50085879 -1, :]"
   ]
  },
  {
   "cell_type": "code",
   "execution_count": 5,
   "metadata": {},
   "outputs": [],
   "source": [
    "delta = 0.003\n",
    "np_train = np.array(train)"
   ]
  },
  {
   "cell_type": "code",
   "execution_count": 6,
   "metadata": {},
   "outputs": [],
   "source": [
    "np_test = np.array(test)"
   ]
  },
  {
   "cell_type": "code",
   "execution_count": 7,
   "metadata": {},
   "outputs": [],
   "source": [
    "candi = np.where(np_train[:, 1] < delta)[0]"
   ]
  },
  {
   "cell_type": "code",
   "execution_count": 8,
   "metadata": {},
   "outputs": [],
   "source": [
    "candi_t = np.where(np_test[:, 1] < delta)[0]"
   ]
  },
  {
   "cell_type": "code",
   "execution_count": 9,
   "metadata": {},
   "outputs": [],
   "source": [
    "can = [candi[0]]\n",
    "for i in range(1, len(candi)):\n",
    "    if can[-1] == candi[i] - 1:\n",
    "        can[-1] = candi[i]\n",
    "    else:\n",
    "        can.append(candi[i])"
   ]
  },
  {
   "cell_type": "code",
   "execution_count": 10,
   "metadata": {},
   "outputs": [],
   "source": [
    "can_t = [candi_t[0]]\n",
    "for i in range(1, len(candi_t)):\n",
    "    if can_t[-1] == candi_t[i] - 1:\n",
    "        can_t[-1] = candi_t[i]\n",
    "    else:\n",
    "        can_t.append(candi_t[i])"
   ]
  },
  {
   "cell_type": "code",
   "execution_count": 13,
   "metadata": {},
   "outputs": [
    {
     "data": {
      "text/plain": [
       "array([ 54579189,  54579190,  54579191, ..., 571899791, 571899792,\n",
       "       571899793])"
      ]
     },
     "execution_count": 13,
     "metadata": {},
     "output_type": "execute_result"
    }
   ],
   "source": [
    "candi"
   ]
  },
  {
   "cell_type": "code",
   "execution_count": 14,
   "metadata": {},
   "outputs": [],
   "source": [
    "train_segs = []\n",
    "start = 0\n",
    "for i in range(0, len(can)):\n",
    "    train_segs.append(train.iloc[start:can[i], :])\n",
    "    start = can[i] + 2"
   ]
  },
  {
   "cell_type": "code",
   "execution_count": 56,
   "metadata": {},
   "outputs": [],
   "source": [
    "test_segs = []\n",
    "start = 0\n",
    "for i in range(0, len(can_t)):\n",
    "    test_segs.append(test.iloc[start:can_t[i], :])\n",
    "    start = can_t[i] + 2"
   ]
  },
  {
   "cell_type": "code",
   "execution_count": 57,
   "metadata": {},
   "outputs": [
    {
     "data": {
      "text/html": [
       "<div>\n",
       "<style scoped>\n",
       "    .dataframe tbody tr th:only-of-type {\n",
       "        vertical-align: middle;\n",
       "    }\n",
       "\n",
       "    .dataframe tbody tr th {\n",
       "        vertical-align: top;\n",
       "    }\n",
       "\n",
       "    .dataframe thead th {\n",
       "        text-align: right;\n",
       "    }\n",
       "</style>\n",
       "<table border=\"1\" class=\"dataframe\">\n",
       "  <thead>\n",
       "    <tr style=\"text-align: right;\">\n",
       "      <th></th>\n",
       "      <th>acoustic_data</th>\n",
       "      <th>time_to_failure</th>\n",
       "    </tr>\n",
       "  </thead>\n",
       "  <tbody>\n",
       "    <tr>\n",
       "      <th>0</th>\n",
       "      <td>12</td>\n",
       "      <td>1.469100</td>\n",
       "    </tr>\n",
       "    <tr>\n",
       "      <th>1</th>\n",
       "      <td>6</td>\n",
       "      <td>1.469100</td>\n",
       "    </tr>\n",
       "    <tr>\n",
       "      <th>2</th>\n",
       "      <td>8</td>\n",
       "      <td>1.469100</td>\n",
       "    </tr>\n",
       "    <tr>\n",
       "      <th>3</th>\n",
       "      <td>5</td>\n",
       "      <td>1.469100</td>\n",
       "    </tr>\n",
       "    <tr>\n",
       "      <th>4</th>\n",
       "      <td>8</td>\n",
       "      <td>1.469100</td>\n",
       "    </tr>\n",
       "    <tr>\n",
       "      <th>5</th>\n",
       "      <td>8</td>\n",
       "      <td>1.469100</td>\n",
       "    </tr>\n",
       "    <tr>\n",
       "      <th>6</th>\n",
       "      <td>9</td>\n",
       "      <td>1.469100</td>\n",
       "    </tr>\n",
       "    <tr>\n",
       "      <th>7</th>\n",
       "      <td>7</td>\n",
       "      <td>1.469100</td>\n",
       "    </tr>\n",
       "    <tr>\n",
       "      <th>8</th>\n",
       "      <td>-5</td>\n",
       "      <td>1.469100</td>\n",
       "    </tr>\n",
       "    <tr>\n",
       "      <th>9</th>\n",
       "      <td>3</td>\n",
       "      <td>1.469100</td>\n",
       "    </tr>\n",
       "    <tr>\n",
       "      <th>10</th>\n",
       "      <td>5</td>\n",
       "      <td>1.469100</td>\n",
       "    </tr>\n",
       "    <tr>\n",
       "      <th>11</th>\n",
       "      <td>2</td>\n",
       "      <td>1.469100</td>\n",
       "    </tr>\n",
       "    <tr>\n",
       "      <th>12</th>\n",
       "      <td>2</td>\n",
       "      <td>1.469100</td>\n",
       "    </tr>\n",
       "    <tr>\n",
       "      <th>13</th>\n",
       "      <td>3</td>\n",
       "      <td>1.469100</td>\n",
       "    </tr>\n",
       "    <tr>\n",
       "      <th>14</th>\n",
       "      <td>-1</td>\n",
       "      <td>1.469100</td>\n",
       "    </tr>\n",
       "    <tr>\n",
       "      <th>15</th>\n",
       "      <td>5</td>\n",
       "      <td>1.469100</td>\n",
       "    </tr>\n",
       "    <tr>\n",
       "      <th>16</th>\n",
       "      <td>6</td>\n",
       "      <td>1.469100</td>\n",
       "    </tr>\n",
       "    <tr>\n",
       "      <th>17</th>\n",
       "      <td>4</td>\n",
       "      <td>1.469100</td>\n",
       "    </tr>\n",
       "    <tr>\n",
       "      <th>18</th>\n",
       "      <td>3</td>\n",
       "      <td>1.469100</td>\n",
       "    </tr>\n",
       "    <tr>\n",
       "      <th>19</th>\n",
       "      <td>5</td>\n",
       "      <td>1.469100</td>\n",
       "    </tr>\n",
       "    <tr>\n",
       "      <th>20</th>\n",
       "      <td>4</td>\n",
       "      <td>1.469100</td>\n",
       "    </tr>\n",
       "    <tr>\n",
       "      <th>21</th>\n",
       "      <td>2</td>\n",
       "      <td>1.469100</td>\n",
       "    </tr>\n",
       "    <tr>\n",
       "      <th>22</th>\n",
       "      <td>6</td>\n",
       "      <td>1.469100</td>\n",
       "    </tr>\n",
       "    <tr>\n",
       "      <th>23</th>\n",
       "      <td>7</td>\n",
       "      <td>1.469100</td>\n",
       "    </tr>\n",
       "    <tr>\n",
       "      <th>24</th>\n",
       "      <td>7</td>\n",
       "      <td>1.469100</td>\n",
       "    </tr>\n",
       "    <tr>\n",
       "      <th>25</th>\n",
       "      <td>8</td>\n",
       "      <td>1.469100</td>\n",
       "    </tr>\n",
       "    <tr>\n",
       "      <th>26</th>\n",
       "      <td>14</td>\n",
       "      <td>1.469100</td>\n",
       "    </tr>\n",
       "    <tr>\n",
       "      <th>27</th>\n",
       "      <td>9</td>\n",
       "      <td>1.469100</td>\n",
       "    </tr>\n",
       "    <tr>\n",
       "      <th>28</th>\n",
       "      <td>4</td>\n",
       "      <td>1.469100</td>\n",
       "    </tr>\n",
       "    <tr>\n",
       "      <th>29</th>\n",
       "      <td>7</td>\n",
       "      <td>1.469100</td>\n",
       "    </tr>\n",
       "    <tr>\n",
       "      <th>...</th>\n",
       "      <td>...</td>\n",
       "      <td>...</td>\n",
       "    </tr>\n",
       "    <tr>\n",
       "      <th>5656543</th>\n",
       "      <td>5</td>\n",
       "      <td>0.000796</td>\n",
       "    </tr>\n",
       "    <tr>\n",
       "      <th>5656544</th>\n",
       "      <td>5</td>\n",
       "      <td>0.000796</td>\n",
       "    </tr>\n",
       "    <tr>\n",
       "      <th>5656545</th>\n",
       "      <td>3</td>\n",
       "      <td>0.000796</td>\n",
       "    </tr>\n",
       "    <tr>\n",
       "      <th>5656546</th>\n",
       "      <td>4</td>\n",
       "      <td>0.000796</td>\n",
       "    </tr>\n",
       "    <tr>\n",
       "      <th>5656547</th>\n",
       "      <td>6</td>\n",
       "      <td>0.000796</td>\n",
       "    </tr>\n",
       "    <tr>\n",
       "      <th>5656548</th>\n",
       "      <td>6</td>\n",
       "      <td>0.000796</td>\n",
       "    </tr>\n",
       "    <tr>\n",
       "      <th>5656549</th>\n",
       "      <td>8</td>\n",
       "      <td>0.000796</td>\n",
       "    </tr>\n",
       "    <tr>\n",
       "      <th>5656550</th>\n",
       "      <td>8</td>\n",
       "      <td>0.000796</td>\n",
       "    </tr>\n",
       "    <tr>\n",
       "      <th>5656551</th>\n",
       "      <td>8</td>\n",
       "      <td>0.000796</td>\n",
       "    </tr>\n",
       "    <tr>\n",
       "      <th>5656552</th>\n",
       "      <td>8</td>\n",
       "      <td>0.000796</td>\n",
       "    </tr>\n",
       "    <tr>\n",
       "      <th>5656553</th>\n",
       "      <td>11</td>\n",
       "      <td>0.000796</td>\n",
       "    </tr>\n",
       "    <tr>\n",
       "      <th>5656554</th>\n",
       "      <td>5</td>\n",
       "      <td>0.000796</td>\n",
       "    </tr>\n",
       "    <tr>\n",
       "      <th>5656555</th>\n",
       "      <td>2</td>\n",
       "      <td>0.000795</td>\n",
       "    </tr>\n",
       "    <tr>\n",
       "      <th>5656556</th>\n",
       "      <td>5</td>\n",
       "      <td>0.000795</td>\n",
       "    </tr>\n",
       "    <tr>\n",
       "      <th>5656557</th>\n",
       "      <td>6</td>\n",
       "      <td>0.000795</td>\n",
       "    </tr>\n",
       "    <tr>\n",
       "      <th>5656558</th>\n",
       "      <td>1</td>\n",
       "      <td>0.000795</td>\n",
       "    </tr>\n",
       "    <tr>\n",
       "      <th>5656559</th>\n",
       "      <td>2</td>\n",
       "      <td>0.000795</td>\n",
       "    </tr>\n",
       "    <tr>\n",
       "      <th>5656560</th>\n",
       "      <td>5</td>\n",
       "      <td>0.000795</td>\n",
       "    </tr>\n",
       "    <tr>\n",
       "      <th>5656561</th>\n",
       "      <td>8</td>\n",
       "      <td>0.000795</td>\n",
       "    </tr>\n",
       "    <tr>\n",
       "      <th>5656562</th>\n",
       "      <td>5</td>\n",
       "      <td>0.000795</td>\n",
       "    </tr>\n",
       "    <tr>\n",
       "      <th>5656563</th>\n",
       "      <td>4</td>\n",
       "      <td>0.000795</td>\n",
       "    </tr>\n",
       "    <tr>\n",
       "      <th>5656564</th>\n",
       "      <td>4</td>\n",
       "      <td>0.000795</td>\n",
       "    </tr>\n",
       "    <tr>\n",
       "      <th>5656565</th>\n",
       "      <td>7</td>\n",
       "      <td>0.000795</td>\n",
       "    </tr>\n",
       "    <tr>\n",
       "      <th>5656566</th>\n",
       "      <td>2</td>\n",
       "      <td>0.000795</td>\n",
       "    </tr>\n",
       "    <tr>\n",
       "      <th>5656567</th>\n",
       "      <td>2</td>\n",
       "      <td>0.000795</td>\n",
       "    </tr>\n",
       "    <tr>\n",
       "      <th>5656568</th>\n",
       "      <td>0</td>\n",
       "      <td>0.000795</td>\n",
       "    </tr>\n",
       "    <tr>\n",
       "      <th>5656569</th>\n",
       "      <td>0</td>\n",
       "      <td>0.000795</td>\n",
       "    </tr>\n",
       "    <tr>\n",
       "      <th>5656570</th>\n",
       "      <td>2</td>\n",
       "      <td>0.000795</td>\n",
       "    </tr>\n",
       "    <tr>\n",
       "      <th>5656571</th>\n",
       "      <td>4</td>\n",
       "      <td>0.000795</td>\n",
       "    </tr>\n",
       "    <tr>\n",
       "      <th>5656572</th>\n",
       "      <td>5</td>\n",
       "      <td>0.000795</td>\n",
       "    </tr>\n",
       "  </tbody>\n",
       "</table>\n",
       "<p>5656573 rows × 2 columns</p>\n",
       "</div>"
      ],
      "text/plain": [
       "         acoustic_data  time_to_failure\n",
       "0                   12         1.469100\n",
       "1                    6         1.469100\n",
       "2                    8         1.469100\n",
       "3                    5         1.469100\n",
       "4                    8         1.469100\n",
       "5                    8         1.469100\n",
       "6                    9         1.469100\n",
       "7                    7         1.469100\n",
       "8                   -5         1.469100\n",
       "9                    3         1.469100\n",
       "10                   5         1.469100\n",
       "11                   2         1.469100\n",
       "12                   2         1.469100\n",
       "13                   3         1.469100\n",
       "14                  -1         1.469100\n",
       "15                   5         1.469100\n",
       "16                   6         1.469100\n",
       "17                   4         1.469100\n",
       "18                   3         1.469100\n",
       "19                   5         1.469100\n",
       "20                   4         1.469100\n",
       "21                   2         1.469100\n",
       "22                   6         1.469100\n",
       "23                   7         1.469100\n",
       "24                   7         1.469100\n",
       "25                   8         1.469100\n",
       "26                  14         1.469100\n",
       "27                   9         1.469100\n",
       "28                   4         1.469100\n",
       "29                   7         1.469100\n",
       "...                ...              ...\n",
       "5656543              5         0.000796\n",
       "5656544              5         0.000796\n",
       "5656545              3         0.000796\n",
       "5656546              4         0.000796\n",
       "5656547              6         0.000796\n",
       "5656548              6         0.000796\n",
       "5656549              8         0.000796\n",
       "5656550              8         0.000796\n",
       "5656551              8         0.000796\n",
       "5656552              8         0.000796\n",
       "5656553             11         0.000796\n",
       "5656554              5         0.000796\n",
       "5656555              2         0.000795\n",
       "5656556              5         0.000795\n",
       "5656557              6         0.000795\n",
       "5656558              1         0.000795\n",
       "5656559              2         0.000795\n",
       "5656560              5         0.000795\n",
       "5656561              8         0.000795\n",
       "5656562              5         0.000795\n",
       "5656563              4         0.000795\n",
       "5656564              4         0.000795\n",
       "5656565              7         0.000795\n",
       "5656566              2         0.000795\n",
       "5656567              2         0.000795\n",
       "5656568              0         0.000795\n",
       "5656569              0         0.000795\n",
       "5656570              2         0.000795\n",
       "5656571              4         0.000795\n",
       "5656572              5         0.000795\n",
       "\n",
       "[5656573 rows x 2 columns]"
      ]
     },
     "execution_count": 57,
     "metadata": {},
     "output_type": "execute_result"
    }
   ],
   "source": [
    "test_segs[0]"
   ]
  },
  {
   "cell_type": "code",
   "execution_count": 17,
   "metadata": {},
   "outputs": [
    {
     "data": {
      "application/vnd.jupyter.widget-view+json": {
       "model_id": "d5522b84b3304ccbb6d62dc09fe2503f",
       "version_major": 2,
       "version_minor": 0
      },
      "text/plain": [
       "HBox(children=(IntProgress(value=0, max=13), HTML(value='')))"
      ]
     },
     "metadata": {},
     "output_type": "display_data"
    },
    {
     "name": "stdout",
     "output_type": "stream",
     "text": [
      "\n"
     ]
    }
   ],
   "source": [
    "from librosa.feature import mfcc\n",
    "\n",
    "feat_mat = np.zeros((len(train_segs) - 1, 85))\n",
    "\n",
    "for i in tqdm_notebook(np.arange(0,feat_mat.shape[0])):\n",
    "    seg = train_segs[i]\n",
    "    seg = seg.acoustic_data\n",
    "    \n",
    "    feat_mat[i,0] = np.mean(seg)\n",
    "    feat_mat[i,1] = np.var(seg)\n",
    "    feat_mat[i,2] = np.max(seg)\n",
    "    feat_mat[i,3] = np.min(seg)\n",
    "    # From here I added mfcc features\n",
    "    mfcc_f = mfcc(y=np.array(seg, dtype=np.float32), n_mfcc=20)\n",
    "    # For each of 10 mfcc features I extracted mean and variance\n",
    "    for j in range(mfcc_f.shape[0]):\n",
    "        feat_mat[i, 4 + 4*j] = np.mean(mfcc_f[j])\n",
    "        feat_mat[i, 4 + 4*j + 1] = np.var(mfcc_f[j])\n",
    "        feat_mat[i, 4 + 4*j + 2] = np.max(mfcc_f[j])\n",
    "        feat_mat[i, 4 + 4*j + 3] = np.min(mfcc_f[j])\n",
    "    feat_mat[i,-1] = train_segs[i + 1].time_to_failure.iloc[0]\n"
   ]
  },
  {
   "cell_type": "code",
   "execution_count": 94,
   "metadata": {},
   "outputs": [],
   "source": [
    "test_feat_mat = np.zeros((1, 85))\n",
    "\n",
    "seg = test_segs[1]\n",
    "seg = seg.acoustic_data\n",
    "\n",
    "test_feat_mat[0,0] = np.mean(seg)\n",
    "test_feat_mat[0,1] = np.var(seg)\n",
    "test_feat_mat[0,2] = np.max(seg)\n",
    "test_feat_mat[0,3] = np.min(seg)\n",
    "# From here I added mfcc features\n",
    "mfcc_f = mfcc(y=np.array(seg, dtype=np.float32), n_mfcc=20)\n",
    "# For each of 10 mfcc features I extracted mean and variance\n",
    "for j in range(mfcc_f.shape[0]):\n",
    "    test_feat_mat[0, 4 + 4*j] = np.mean(mfcc_f[j])\n",
    "    test_feat_mat[0, 4 + 4*j + 1] = np.var(mfcc_f[j])\n",
    "    test_feat_mat[0, 4 + 4*j + 2] = np.max(mfcc_f[j])\n",
    "    test_feat_mat[0, 4 + 4*j + 3] = np.min(mfcc_f[j])\n",
    "test_feat_mat[0,-1] = train_segs[0].time_to_failure.iloc[0]\n"
   ]
  },
  {
   "cell_type": "code",
   "execution_count": 95,
   "metadata": {},
   "outputs": [
    {
     "data": {
      "text/plain": [
       "array([[ 4.50781259e+00,  1.18827065e+02,  3.91400000e+03,\n",
       "        -3.30100000e+03,  3.34932388e+02,  6.30965402e+02,\n",
       "         7.39925475e+02,  3.00251962e+02,  2.94907947e+01,\n",
       "         3.53415655e+02,  2.56169285e+02, -2.01125586e-01,\n",
       "        -2.50212968e+01,  9.63106257e+01, -2.61958226e+00,\n",
       "        -9.31284043e+01, -1.37620800e+01,  2.09773187e+02,\n",
       "         1.36550836e+01, -8.60406631e+01, -8.23729546e+00,\n",
       "         4.43224783e+01,  1.15039606e+01, -5.16086996e+01,\n",
       "         7.23575567e+00,  2.37374438e+01,  3.21195711e+01,\n",
       "        -2.48870901e+01,  1.26175464e+00,  2.18586695e+01,\n",
       "         2.35202535e+01, -3.82528439e+01,  2.51663833e-01,\n",
       "         2.25307725e+01,  1.95672513e+01, -3.30541897e+01,\n",
       "        -1.85841572e+00,  1.98748127e+01,  1.62394952e+01,\n",
       "        -2.96375844e+01,  2.83790954e+00,  1.54903757e+01,\n",
       "         1.83271268e+01, -2.66522830e+01,  4.84848371e+00,\n",
       "         1.42057759e+01,  2.83697440e+01, -2.55221747e+01,\n",
       "         4.55845165e+00,  1.25047995e+01,  2.14179695e+01,\n",
       "        -1.89681053e+01, -3.57231795e-01,  1.53230961e+01,\n",
       "         1.36323249e+01, -2.53289145e+01, -4.49733630e-01,\n",
       "         1.66212901e+01,  1.58125458e+01, -2.36928222e+01,\n",
       "         4.30992944e+00,  1.29352061e+01,  2.42440294e+01,\n",
       "        -1.23022475e+01,  8.35318946e+00,  2.14972876e+01,\n",
       "         3.34939244e+01, -8.90063563e+00,  5.17770455e+00,\n",
       "         1.27241478e+01,  2.48578085e+01, -1.17406108e+01,\n",
       "         8.24266319e-01,  1.36510421e+01,  1.57835928e+01,\n",
       "        -1.85593170e+01,  5.54093059e-01,  1.28895460e+01,\n",
       "         1.62331577e+01, -1.88446878e+01,  3.50935652e+00,\n",
       "         1.12773485e+01,  2.08900326e+01, -1.34549502e+01,\n",
       "         1.41806002e+01]])"
      ]
     },
     "execution_count": 95,
     "metadata": {},
     "output_type": "execute_result"
    }
   ],
   "source": [
    "test_feat_mat"
   ]
  },
  {
   "cell_type": "code",
   "execution_count": 91,
   "metadata": {},
   "outputs": [],
   "source": [
    "test_feat_mat = test_feat_mat[1]"
   ]
  },
  {
   "cell_type": "code",
   "execution_count": 193,
   "metadata": {},
   "outputs": [
    {
     "data": {
      "text/plain": [
       "acoustic_data      4.0000\n",
       "time_to_failure    8.8567\n",
       "Name: 104677356, dtype: float32"
      ]
     },
     "execution_count": 193,
     "metadata": {},
     "output_type": "execute_result"
    }
   ],
   "source": [
    "train.iloc[4505600]"
   ]
  },
  {
   "cell_type": "code",
   "execution_count": 5,
   "metadata": {},
   "outputs": [],
   "source": [
    "from librosa.feature import mfcc\n",
    "from sklearn.decomposition import PCA\n",
    "\n",
    "fs = 4000000 # Hz\n",
    "window_time = 0.05 # seconds\n",
    "offset = 0.002 # seconds\n",
    "window_size = int(window_time*fs)"
   ]
  },
  {
   "cell_type": "markdown",
   "metadata": {},
   "source": [
    "We could see an improve from the raw feature of mean/variance/min/max setting.<br>\n",
    "We could further add more features"
   ]
  },
  {
   "cell_type": "code",
   "execution_count": 6,
   "metadata": {},
   "outputs": [
    {
     "data": {
      "text/plain": [
       "200000"
      ]
     },
     "execution_count": 6,
     "metadata": {},
     "output_type": "execute_result"
    }
   ],
   "source": [
    "window_size"
   ]
  },
  {
   "cell_type": "code",
   "execution_count": 7,
   "metadata": {},
   "outputs": [],
   "source": [
    "from librosa.feature import mfcc\n",
    "\n",
    "def extract_feature(dataset, length):\n",
    "    feat_mat = np.zeros((length, 85))\n",
    "\n",
    "    for i in tqdm_notebook(np.arange(0,feat_mat.shape[0])):\n",
    "        start = int(i*offset*fs)\n",
    "        stop = int(window_size+i*offset*fs)\n",
    "        seg = dataset.iloc[start:stop,0]\n",
    "\n",
    "        feat_mat[i,0] = np.mean(seg)\n",
    "        feat_mat[i,1] = np.var(seg)\n",
    "        feat_mat[i,2] = np.max(seg)\n",
    "        feat_mat[i,3] = np.min(seg)\n",
    "        # From here I added mfcc features\n",
    "        mfcc_f = mfcc(y=np.array(seg, dtype=np.float32), n_mfcc=20)\n",
    "        # For each of 10 mfcc features I extracted mean and variance\n",
    "        for j in range(mfcc_f.shape[0]):\n",
    "            feat_mat[i, 4 + 4*j] = np.mean(mfcc_f[j])\n",
    "            feat_mat[i, 4 + 4*j + 1] = np.var(mfcc_f[j])\n",
    "            feat_mat[i, 4 + 4*j + 2] = np.max(mfcc_f[j])\n",
    "            feat_mat[i, 4 + 4*j + 3] = np.min(mfcc_f[j])\n",
    "        feat_mat[i,-1] = dataset.iloc[stop+1,1]\n",
    "\n",
    "    return feat_mat"
   ]
  },
  {
   "cell_type": "code",
   "execution_count": 8,
   "metadata": {},
   "outputs": [
    {
     "data": {
      "application/vnd.jupyter.widget-view+json": {
       "model_id": "c8a526d6313746a28b12afab2f5e315f",
       "version_major": 2,
       "version_minor": 0
      },
      "text/plain": [
       "HBox(children=(IntProgress(value=0, max=70000), HTML(value='')))"
      ]
     },
     "metadata": {},
     "output_type": "display_data"
    },
    {
     "name": "stdout",
     "output_type": "stream",
     "text": [
      "\n"
     ]
    }
   ],
   "source": [
    "feat_mat = extract_feature(train, 70000)"
   ]
  },
  {
   "cell_type": "code",
   "execution_count": 9,
   "metadata": {},
   "outputs": [
    {
     "data": {
      "application/vnd.jupyter.widget-view+json": {
       "model_id": "47e15a1ac52746d493de58752e765462",
       "version_major": 2,
       "version_minor": 0
      },
      "text/plain": [
       "HBox(children=(IntProgress(value=0, max=6000), HTML(value='')))"
      ]
     },
     "metadata": {},
     "output_type": "display_data"
    },
    {
     "name": "stdout",
     "output_type": "stream",
     "text": [
      "\n"
     ]
    }
   ],
   "source": [
    "test_feat_mat = extract_feature(test, 6000)"
   ]
  },
  {
   "cell_type": "code",
   "execution_count": 96,
   "metadata": {},
   "outputs": [],
   "source": [
    "df = pd.DataFrame(feat_mat,dtype=np.float64)\n",
    "test_df = pd.DataFrame(test_feat_mat,dtype=np.float64)\n",
    "dataset = df.values\n",
    "test_set = test_df.values"
   ]
  },
  {
   "cell_type": "code",
   "execution_count": 122,
   "metadata": {},
   "outputs": [],
   "source": [
    "def avg_res(res):\n",
    "    window_size = 64\n",
    "    new_res = np.zeros(res.shape,dtype=np.float64)\n",
    "    for i in range(0, len(res)):\n",
    "        if i < window_size:\n",
    "            seg = res[i : i + window_size]\n",
    "            new_res[i] = np.mean(seg)\n",
    "        else:\n",
    "            seg = res[i - window_size : i]\n",
    "            new_res[i] = np.mean(seg)\n",
    "    return new_res\n",
    "    "
   ]
  },
  {
   "cell_type": "code",
   "execution_count": 25,
   "metadata": {},
   "outputs": [],
   "source": [
    "def eval_result(dataset_, pred):\n",
    "    res = pred(dataset_[:,:-1])\n",
    "#     res = avg_res(res)\n",
    "    plt.plot(res,label='predictions')\n",
    "    plt.plot(dataset_[:,-1],label='actual')\n",
    "    plt.legend()\n",
    "\n",
    "    print(\"R^2 = \",r2_score(dataset_[:,-1],res))\n",
    "    print(\"MAE = \",mean_absolute_error(dataset_[:,-1],res))"
   ]
  },
  {
   "cell_type": "code",
   "execution_count": 16,
   "metadata": {},
   "outputs": [
    {
     "name": "stdout",
     "output_type": "stream",
     "text": [
      "R^2 =  0.988431913723196\n",
      "MAE =  0.27825978332776774\n"
     ]
    },
    {
     "data": {
      "image/png": "[encoded data removed]",
      "text/plain": [
       "<Figure size 432x288 with 1 Axes>"
      ]
     },
     "metadata": {},
     "output_type": "display_data"
    }
   ],
   "source": [
    "rf = RandomForestRegressor(n_estimators = 1000, random_state = 42, n_jobs = 8)\n",
    "rf.fit(dataset[:,:-1], dataset[:,-1])\n",
    "eval_result(dataset, rf.predict)"
   ]
  },
  {
   "cell_type": "code",
   "execution_count": 120,
   "metadata": {},
   "outputs": [
    {
     "name": "stdout",
     "output_type": "stream",
     "text": [
      "R^2 =  0.7274133417858218\n",
      "MAE =  1.5595671750069053\n"
     ]
    },
    {
     "data": {
      "image/png": "[encoded data removed]",
      "text/plain": [
       "<Figure size 432x288 with 1 Axes>"
      ]
     },
     "metadata": {},
     "output_type": "display_data"
    }
   ],
   "source": [
    "eval_result(test_set, rf.predict)"
   ]
  },
  {
   "cell_type": "code",
   "execution_count": null,
   "metadata": {},
   "outputs": [],
   "source": [
    "xgr = xgb.XGBRegressor(booster='gbtree', n_estimators=1000, tree_method = 'gpu_exact', learning_rate = 2)\n",
    "xgr.fit(dataset[:,:-1], dataset[:,-1])\n",
    "eval_result(dataset, xgr.predict)"
   ]
  },
  {
   "cell_type": "code",
   "execution_count": 110,
   "metadata": {},
   "outputs": [
    {
     "name": "stdout",
     "output_type": "stream",
     "text": [
      "R^2 =  0.0\n",
      "MAE =  4.017345428466797\n"
     ]
    },
    {
     "data": {
      "image/png": "[encoded data removed]",
      "text/plain": [
       "<Figure size 432x288 with 1 Axes>"
      ]
     },
     "metadata": {},
     "output_type": "display_data"
    }
   ],
   "source": [
    "eval_result(test_set, xgr.predict)"
   ]
  },
  {
   "cell_type": "markdown",
   "metadata": {},
   "source": [
    "## Finally I tried to ensemble two models but only got average result"
   ]
  },
  {
   "cell_type": "code",
   "execution_count": 186,
   "metadata": {},
   "outputs": [],
   "source": [
    "pred_rf = rf.predict(dataset[:,:-1])\n",
    "pred_xgr = xgr.predict(dataset[:,:-1])\n",
    "\n",
    "preds = np.zeros((pred_rf.shape[0],2))\n",
    "\n",
    "preds[:,0:1] = pred_rf.reshape(-1,1)\n",
    "preds[:,1:2] = pred_xgr.reshape(-1,1)\n"
   ]
  },
  {
   "cell_type": "code",
   "execution_count": 187,
   "metadata": {},
   "outputs": [
    {
     "data": {
      "text/plain": [
       "(13500, 86)"
      ]
     },
     "execution_count": 187,
     "metadata": {},
     "output_type": "execute_result"
    }
   ],
   "source": [
    "ds_ens = np.concatenate((dataset[:,:-1],preds),axis=1)\n",
    "ds_ens.shape"
   ]
  },
  {
   "cell_type": "code",
   "execution_count": 188,
   "metadata": {},
   "outputs": [
    {
     "data": {
      "text/plain": [
       "RandomForestRegressor(bootstrap=True, criterion='mse', max_depth=None,\n",
       "           max_features='auto', max_leaf_nodes=None,\n",
       "           min_impurity_decrease=0.0, min_impurity_split=None,\n",
       "           min_samples_leaf=1, min_samples_split=2,\n",
       "           min_weight_fraction_leaf=0.0, n_estimators=1000, n_jobs=72,\n",
       "           oob_score=False, random_state=42, verbose=0, warm_start=False)"
      ]
     },
     "execution_count": 188,
     "metadata": {},
     "output_type": "execute_result"
    }
   ],
   "source": [
    "rf_ens = RandomForestRegressor(n_estimators = 1000, random_state = 42, n_jobs=72)\n",
    "\n",
    "# Train the model on training data\n",
    "rf_ens.fit(ds_ens, dataset[:,-1])"
   ]
  },
  {
   "cell_type": "code",
   "execution_count": 190,
   "metadata": {},
   "outputs": [
    {
     "name": "stdout",
     "output_type": "stream",
     "text": [
      "R^2 =  0.5792328603044525\n",
      "MAE =  1.7181738847046042\n"
     ]
    },
    {
     "data": {
      "image/png": "[encoded data removed]",
      "text/plain": [
       "<Figure size 432x288 with 1 Axes>"
      ]
     },
     "metadata": {},
     "output_type": "display_data"
    }
   ],
   "source": [
    "pred_rf = rf.predict(test_set[:,:-1])\n",
    "pred_xgr = xgr.predict(test_set[:,:-1])\n",
    "\n",
    "preds = np.zeros((pred_rf.shape[0],2))\n",
    "\n",
    "preds[:,0:1] = pred_rf.reshape(-1,1)\n",
    "preds[:,1:2] = pred_xgr.reshape(-1,1)\n",
    "\n",
    "test_ens = np.concatenate((test_set[:,:-1],preds),axis=1)\n",
    "\n",
    "pred_rf_ens = rf_ens.predict(test_ens)\n",
    "\n",
    "plt.plot(pred_rf_ens,label='predictions')\n",
    "plt.plot(test_set[:,-1],label='actual')\n",
    "plt.legend()\n",
    "\n",
    "print(\"R^2 = \",r2_score(test_set[:,-1],pred_rf_ens))\n",
    "print(\"MAE = \",mean_absolute_error(test_set[:,-1],pred_rf_ens))"
   ]
  },
  {
   "cell_type": "markdown",
   "metadata": {},
   "source": [
    "If I have more time I will try other methods like 1-conv neural network, "
   ]
  },
  {
   "cell_type": "code",
   "execution_count": 114,
   "metadata": {},
   "outputs": [
    {
     "data": {
      "application/vnd.jupyter.widget-view+json": {
       "model_id": "abd4b6161fa443cd9a2f9a887aa57e75",
       "version_major": 2,
       "version_minor": 0
      },
      "text/plain": [
       "HBox(children=(IntProgress(value=0, max=2624), HTML(value='')))"
      ]
     },
     "metadata": {},
     "output_type": "display_data"
    },
    {
     "name": "stdout",
     "output_type": "stream",
     "text": [
      "\n"
     ]
    }
   ],
   "source": [
    "from tqdm import tqdm_notebook\n",
    "\n",
    "submission = pd.read_csv('sample_submission.csv', index_col='seg_id', dtype={\"time_to_failure\": np.float32})\n",
    "X_test = pd.DataFrame(columns=df.columns, dtype=np.float64, index=submission.index)\n",
    "\n",
    "for i, seg_id in enumerate(tqdm_notebook(X_test.index)):\n",
    "    seg = pd.read_csv('./test/' + seg_id + '.csv')\n",
    "    X_test.loc[seg_id, 0] = np.mean(seg.values)\n",
    "    X_test.loc[seg_id, 1] = np.var(seg.values)\n",
    "    X_test.loc[seg_id, 2] = np.max(seg.values)\n",
    "    X_test.loc[seg_id, 3] = np.min(seg.values)\n",
    "    mfcc_f = mfcc(y=np.array(seg, dtype=np.float32).flatten(), n_mfcc=20)\n",
    "    # For each of 10 mfcc features I extracted mean and variance\n",
    "    for j in range(mfcc_f.shape[0]):\n",
    "        X_test.loc[seg_id, 4 + 4*j] = np.mean(mfcc_f[j])\n",
    "        X_test.loc[seg_id, 4 + 4*j + 1] = np.var(mfcc_f[j])\n",
    "        X_test.loc[seg_id, 4 + 4*j + 2] = np.max(mfcc_f[j])\n",
    "        X_test.loc[seg_id, 4 + 4*j + 3] = np.min(mfcc_f[j])"
   ]
  },
  {
   "cell_type": "code",
   "execution_count": 235,
   "metadata": {},
   "outputs": [],
   "source": [
    "seg = pd.read_csv('./test/seg_00030f.csv')"
   ]
  },
  {
   "cell_type": "code",
   "execution_count": 236,
   "metadata": {},
   "outputs": [
    {
     "data": {
      "text/html": [
       "<div>\n",
       "<style scoped>\n",
       "    .dataframe tbody tr th:only-of-type {\n",
       "        vertical-align: middle;\n",
       "    }\n",
       "\n",
       "    .dataframe tbody tr th {\n",
       "        vertical-align: top;\n",
       "    }\n",
       "\n",
       "    .dataframe thead th {\n",
       "        text-align: right;\n",
       "    }\n",
       "</style>\n",
       "<table border=\"1\" class=\"dataframe\">\n",
       "  <thead>\n",
       "    <tr style=\"text-align: right;\">\n",
       "      <th></th>\n",
       "      <th>acoustic_data</th>\n",
       "    </tr>\n",
       "  </thead>\n",
       "  <tbody>\n",
       "    <tr>\n",
       "      <th>0</th>\n",
       "      <td>4</td>\n",
       "    </tr>\n",
       "    <tr>\n",
       "      <th>1</th>\n",
       "      <td>0</td>\n",
       "    </tr>\n",
       "    <tr>\n",
       "      <th>2</th>\n",
       "      <td>-2</td>\n",
       "    </tr>\n",
       "    <tr>\n",
       "      <th>3</th>\n",
       "      <td>0</td>\n",
       "    </tr>\n",
       "    <tr>\n",
       "      <th>4</th>\n",
       "      <td>2</td>\n",
       "    </tr>\n",
       "    <tr>\n",
       "      <th>5</th>\n",
       "      <td>-3</td>\n",
       "    </tr>\n",
       "    <tr>\n",
       "      <th>6</th>\n",
       "      <td>-9</td>\n",
       "    </tr>\n",
       "    <tr>\n",
       "      <th>7</th>\n",
       "      <td>-4</td>\n",
       "    </tr>\n",
       "    <tr>\n",
       "      <th>8</th>\n",
       "      <td>11</td>\n",
       "    </tr>\n",
       "    <tr>\n",
       "      <th>9</th>\n",
       "      <td>11</td>\n",
       "    </tr>\n",
       "    <tr>\n",
       "      <th>10</th>\n",
       "      <td>8</td>\n",
       "    </tr>\n",
       "    <tr>\n",
       "      <th>11</th>\n",
       "      <td>1</td>\n",
       "    </tr>\n",
       "    <tr>\n",
       "      <th>12</th>\n",
       "      <td>10</td>\n",
       "    </tr>\n",
       "    <tr>\n",
       "      <th>13</th>\n",
       "      <td>9</td>\n",
       "    </tr>\n",
       "    <tr>\n",
       "      <th>14</th>\n",
       "      <td>12</td>\n",
       "    </tr>\n",
       "    <tr>\n",
       "      <th>15</th>\n",
       "      <td>13</td>\n",
       "    </tr>\n",
       "    <tr>\n",
       "      <th>16</th>\n",
       "      <td>11</td>\n",
       "    </tr>\n",
       "    <tr>\n",
       "      <th>17</th>\n",
       "      <td>11</td>\n",
       "    </tr>\n",
       "    <tr>\n",
       "      <th>18</th>\n",
       "      <td>7</td>\n",
       "    </tr>\n",
       "    <tr>\n",
       "      <th>19</th>\n",
       "      <td>5</td>\n",
       "    </tr>\n",
       "    <tr>\n",
       "      <th>20</th>\n",
       "      <td>2</td>\n",
       "    </tr>\n",
       "    <tr>\n",
       "      <th>21</th>\n",
       "      <td>0</td>\n",
       "    </tr>\n",
       "    <tr>\n",
       "      <th>22</th>\n",
       "      <td>2</td>\n",
       "    </tr>\n",
       "    <tr>\n",
       "      <th>23</th>\n",
       "      <td>-2</td>\n",
       "    </tr>\n",
       "    <tr>\n",
       "      <th>24</th>\n",
       "      <td>0</td>\n",
       "    </tr>\n",
       "    <tr>\n",
       "      <th>25</th>\n",
       "      <td>4</td>\n",
       "    </tr>\n",
       "    <tr>\n",
       "      <th>26</th>\n",
       "      <td>4</td>\n",
       "    </tr>\n",
       "    <tr>\n",
       "      <th>27</th>\n",
       "      <td>2</td>\n",
       "    </tr>\n",
       "    <tr>\n",
       "      <th>28</th>\n",
       "      <td>4</td>\n",
       "    </tr>\n",
       "    <tr>\n",
       "      <th>29</th>\n",
       "      <td>8</td>\n",
       "    </tr>\n",
       "    <tr>\n",
       "      <th>...</th>\n",
       "      <td>...</td>\n",
       "    </tr>\n",
       "    <tr>\n",
       "      <th>149970</th>\n",
       "      <td>4</td>\n",
       "    </tr>\n",
       "    <tr>\n",
       "      <th>149971</th>\n",
       "      <td>5</td>\n",
       "    </tr>\n",
       "    <tr>\n",
       "      <th>149972</th>\n",
       "      <td>5</td>\n",
       "    </tr>\n",
       "    <tr>\n",
       "      <th>149973</th>\n",
       "      <td>2</td>\n",
       "    </tr>\n",
       "    <tr>\n",
       "      <th>149974</th>\n",
       "      <td>2</td>\n",
       "    </tr>\n",
       "    <tr>\n",
       "      <th>149975</th>\n",
       "      <td>0</td>\n",
       "    </tr>\n",
       "    <tr>\n",
       "      <th>149976</th>\n",
       "      <td>2</td>\n",
       "    </tr>\n",
       "    <tr>\n",
       "      <th>149977</th>\n",
       "      <td>3</td>\n",
       "    </tr>\n",
       "    <tr>\n",
       "      <th>149978</th>\n",
       "      <td>6</td>\n",
       "    </tr>\n",
       "    <tr>\n",
       "      <th>149979</th>\n",
       "      <td>5</td>\n",
       "    </tr>\n",
       "    <tr>\n",
       "      <th>149980</th>\n",
       "      <td>7</td>\n",
       "    </tr>\n",
       "    <tr>\n",
       "      <th>149981</th>\n",
       "      <td>9</td>\n",
       "    </tr>\n",
       "    <tr>\n",
       "      <th>149982</th>\n",
       "      <td>9</td>\n",
       "    </tr>\n",
       "    <tr>\n",
       "      <th>149983</th>\n",
       "      <td>7</td>\n",
       "    </tr>\n",
       "    <tr>\n",
       "      <th>149984</th>\n",
       "      <td>7</td>\n",
       "    </tr>\n",
       "    <tr>\n",
       "      <th>149985</th>\n",
       "      <td>8</td>\n",
       "    </tr>\n",
       "    <tr>\n",
       "      <th>149986</th>\n",
       "      <td>7</td>\n",
       "    </tr>\n",
       "    <tr>\n",
       "      <th>149987</th>\n",
       "      <td>6</td>\n",
       "    </tr>\n",
       "    <tr>\n",
       "      <th>149988</th>\n",
       "      <td>4</td>\n",
       "    </tr>\n",
       "    <tr>\n",
       "      <th>149989</th>\n",
       "      <td>5</td>\n",
       "    </tr>\n",
       "    <tr>\n",
       "      <th>149990</th>\n",
       "      <td>8</td>\n",
       "    </tr>\n",
       "    <tr>\n",
       "      <th>149991</th>\n",
       "      <td>6</td>\n",
       "    </tr>\n",
       "    <tr>\n",
       "      <th>149992</th>\n",
       "      <td>2</td>\n",
       "    </tr>\n",
       "    <tr>\n",
       "      <th>149993</th>\n",
       "      <td>0</td>\n",
       "    </tr>\n",
       "    <tr>\n",
       "      <th>149994</th>\n",
       "      <td>-3</td>\n",
       "    </tr>\n",
       "    <tr>\n",
       "      <th>149995</th>\n",
       "      <td>2</td>\n",
       "    </tr>\n",
       "    <tr>\n",
       "      <th>149996</th>\n",
       "      <td>0</td>\n",
       "    </tr>\n",
       "    <tr>\n",
       "      <th>149997</th>\n",
       "      <td>6</td>\n",
       "    </tr>\n",
       "    <tr>\n",
       "      <th>149998</th>\n",
       "      <td>9</td>\n",
       "    </tr>\n",
       "    <tr>\n",
       "      <th>149999</th>\n",
       "      <td>8</td>\n",
       "    </tr>\n",
       "  </tbody>\n",
       "</table>\n",
       "<p>150000 rows × 1 columns</p>\n",
       "</div>"
      ],
      "text/plain": [
       "        acoustic_data\n",
       "0                   4\n",
       "1                   0\n",
       "2                  -2\n",
       "3                   0\n",
       "4                   2\n",
       "5                  -3\n",
       "6                  -9\n",
       "7                  -4\n",
       "8                  11\n",
       "9                  11\n",
       "10                  8\n",
       "11                  1\n",
       "12                 10\n",
       "13                  9\n",
       "14                 12\n",
       "15                 13\n",
       "16                 11\n",
       "17                 11\n",
       "18                  7\n",
       "19                  5\n",
       "20                  2\n",
       "21                  0\n",
       "22                  2\n",
       "23                 -2\n",
       "24                  0\n",
       "25                  4\n",
       "26                  4\n",
       "27                  2\n",
       "28                  4\n",
       "29                  8\n",
       "...               ...\n",
       "149970              4\n",
       "149971              5\n",
       "149972              5\n",
       "149973              2\n",
       "149974              2\n",
       "149975              0\n",
       "149976              2\n",
       "149977              3\n",
       "149978              6\n",
       "149979              5\n",
       "149980              7\n",
       "149981              9\n",
       "149982              9\n",
       "149983              7\n",
       "149984              7\n",
       "149985              8\n",
       "149986              7\n",
       "149987              6\n",
       "149988              4\n",
       "149989              5\n",
       "149990              8\n",
       "149991              6\n",
       "149992              2\n",
       "149993              0\n",
       "149994             -3\n",
       "149995              2\n",
       "149996              0\n",
       "149997              6\n",
       "149998              9\n",
       "149999              8\n",
       "\n",
       "[150000 rows x 1 columns]"
      ]
     },
     "execution_count": 236,
     "metadata": {},
     "output_type": "execute_result"
    }
   ],
   "source": [
    "xgr.predict(X_test.values)"
   ]
  },
  {
   "cell_type": "code",
   "execution_count": 115,
   "metadata": {},
   "outputs": [],
   "source": [
    "X_test.drop(columns=[84],inplace=True)"
   ]
  },
  {
   "cell_type": "code",
   "execution_count": 116,
   "metadata": {},
   "outputs": [],
   "source": [
    "pred = xgr.predict(X_test.values)\n",
    "\n",
    "submission['time_to_failure'] = pred\n",
    "submission.to_csv('submission.csv')"
   ]
  },
  {
   "cell_type": "code",
   "execution_count": 244,
   "metadata": {},
   "outputs": [
    {
     "data": {
      "text/html": [
       "<div>\n",
       "<style scoped>\n",
       "    .dataframe tbody tr th:only-of-type {\n",
       "        vertical-align: middle;\n",
       "    }\n",
       "\n",
       "    .dataframe tbody tr th {\n",
       "        vertical-align: top;\n",
       "    }\n",
       "\n",
       "    .dataframe thead th {\n",
       "        text-align: right;\n",
       "    }\n",
       "</style>\n",
       "<table border=\"1\" class=\"dataframe\">\n",
       "  <thead>\n",
       "    <tr style=\"text-align: right;\">\n",
       "      <th></th>\n",
       "      <th>time_to_failure</th>\n",
       "    </tr>\n",
       "    <tr>\n",
       "      <th>seg_id</th>\n",
       "      <th></th>\n",
       "    </tr>\n",
       "  </thead>\n",
       "  <tbody>\n",
       "    <tr>\n",
       "      <th>seg_00030f</th>\n",
       "      <td>4.032515</td>\n",
       "    </tr>\n",
       "    <tr>\n",
       "      <th>seg_0012b5</th>\n",
       "      <td>5.859446</td>\n",
       "    </tr>\n",
       "    <tr>\n",
       "      <th>seg_00184e</th>\n",
       "      <td>6.015700</td>\n",
       "    </tr>\n",
       "    <tr>\n",
       "      <th>seg_003339</th>\n",
       "      <td>8.497492</td>\n",
       "    </tr>\n",
       "    <tr>\n",
       "      <th>seg_0042cc</th>\n",
       "      <td>6.468748</td>\n",
       "    </tr>\n",
       "    <tr>\n",
       "      <th>seg_004314</th>\n",
       "      <td>2.941420</td>\n",
       "    </tr>\n",
       "    <tr>\n",
       "      <th>seg_004cd2</th>\n",
       "      <td>8.306857</td>\n",
       "    </tr>\n",
       "    <tr>\n",
       "      <th>seg_004ee5</th>\n",
       "      <td>5.004880</td>\n",
       "    </tr>\n",
       "    <tr>\n",
       "      <th>seg_004f1f</th>\n",
       "      <td>4.757255</td>\n",
       "    </tr>\n",
       "    <tr>\n",
       "      <th>seg_00648a</th>\n",
       "      <td>2.958845</td>\n",
       "    </tr>\n",
       "    <tr>\n",
       "      <th>seg_006e4a</th>\n",
       "      <td>3.738543</td>\n",
       "    </tr>\n",
       "    <tr>\n",
       "      <th>seg_007a37</th>\n",
       "      <td>4.908676</td>\n",
       "    </tr>\n",
       "    <tr>\n",
       "      <th>seg_00a37e</th>\n",
       "      <td>3.544120</td>\n",
       "    </tr>\n",
       "    <tr>\n",
       "      <th>seg_00be11</th>\n",
       "      <td>5.001766</td>\n",
       "    </tr>\n",
       "    <tr>\n",
       "      <th>seg_00c35b</th>\n",
       "      <td>8.141470</td>\n",
       "    </tr>\n",
       "    <tr>\n",
       "      <th>seg_00cc91</th>\n",
       "      <td>5.225765</td>\n",
       "    </tr>\n",
       "    <tr>\n",
       "      <th>seg_00e5f7</th>\n",
       "      <td>5.926295</td>\n",
       "    </tr>\n",
       "    <tr>\n",
       "      <th>seg_00f3b9</th>\n",
       "      <td>4.271032</td>\n",
       "    </tr>\n",
       "    <tr>\n",
       "      <th>seg_010eab</th>\n",
       "      <td>6.597785</td>\n",
       "    </tr>\n",
       "    <tr>\n",
       "      <th>seg_0125d9</th>\n",
       "      <td>4.778924</td>\n",
       "    </tr>\n",
       "    <tr>\n",
       "      <th>seg_0144cb</th>\n",
       "      <td>5.403762</td>\n",
       "    </tr>\n",
       "    <tr>\n",
       "      <th>seg_0165c6</th>\n",
       "      <td>10.459313</td>\n",
       "    </tr>\n",
       "    <tr>\n",
       "      <th>seg_016913</th>\n",
       "      <td>3.889750</td>\n",
       "    </tr>\n",
       "    <tr>\n",
       "      <th>seg_016cdb</th>\n",
       "      <td>5.420680</td>\n",
       "    </tr>\n",
       "    <tr>\n",
       "      <th>seg_017314</th>\n",
       "      <td>7.002109</td>\n",
       "    </tr>\n",
       "    <tr>\n",
       "      <th>seg_01a8dc</th>\n",
       "      <td>4.815362</td>\n",
       "    </tr>\n",
       "    <tr>\n",
       "      <th>seg_01c775</th>\n",
       "      <td>7.976657</td>\n",
       "    </tr>\n",
       "    <tr>\n",
       "      <th>seg_01ecb0</th>\n",
       "      <td>4.429214</td>\n",
       "    </tr>\n",
       "    <tr>\n",
       "      <th>seg_02042f</th>\n",
       "      <td>2.008791</td>\n",
       "    </tr>\n",
       "    <tr>\n",
       "      <th>seg_025e78</th>\n",
       "      <td>5.198560</td>\n",
       "    </tr>\n",
       "    <tr>\n",
       "      <th>...</th>\n",
       "      <td>...</td>\n",
       "    </tr>\n",
       "    <tr>\n",
       "      <th>seg_fcb7d0</th>\n",
       "      <td>11.926289</td>\n",
       "    </tr>\n",
       "    <tr>\n",
       "      <th>seg_fcca66</th>\n",
       "      <td>4.950401</td>\n",
       "    </tr>\n",
       "    <tr>\n",
       "      <th>seg_fcd32e</th>\n",
       "      <td>6.040389</td>\n",
       "    </tr>\n",
       "    <tr>\n",
       "      <th>seg_fd19b8</th>\n",
       "      <td>9.337973</td>\n",
       "    </tr>\n",
       "    <tr>\n",
       "      <th>seg_fd374e</th>\n",
       "      <td>6.758663</td>\n",
       "    </tr>\n",
       "    <tr>\n",
       "      <th>seg_fd6340</th>\n",
       "      <td>5.098502</td>\n",
       "    </tr>\n",
       "    <tr>\n",
       "      <th>seg_fd8add</th>\n",
       "      <td>6.940164</td>\n",
       "    </tr>\n",
       "    <tr>\n",
       "      <th>seg_fd9ac1</th>\n",
       "      <td>5.168031</td>\n",
       "    </tr>\n",
       "    <tr>\n",
       "      <th>seg_fdba93</th>\n",
       "      <td>4.849614</td>\n",
       "    </tr>\n",
       "    <tr>\n",
       "      <th>seg_fdc1d4</th>\n",
       "      <td>4.338897</td>\n",
       "    </tr>\n",
       "    <tr>\n",
       "      <th>seg_fdd50e</th>\n",
       "      <td>3.498441</td>\n",
       "    </tr>\n",
       "    <tr>\n",
       "      <th>seg_fde767</th>\n",
       "      <td>5.788184</td>\n",
       "    </tr>\n",
       "    <tr>\n",
       "      <th>seg_fde86d</th>\n",
       "      <td>7.160841</td>\n",
       "    </tr>\n",
       "    <tr>\n",
       "      <th>seg_fdff11</th>\n",
       "      <td>4.160681</td>\n",
       "    </tr>\n",
       "    <tr>\n",
       "      <th>seg_fe2aac</th>\n",
       "      <td>5.331171</td>\n",
       "    </tr>\n",
       "    <tr>\n",
       "      <th>seg_fe5945</th>\n",
       "      <td>3.067349</td>\n",
       "    </tr>\n",
       "    <tr>\n",
       "      <th>seg_fe70c0</th>\n",
       "      <td>7.626245</td>\n",
       "    </tr>\n",
       "    <tr>\n",
       "      <th>seg_fe73b1</th>\n",
       "      <td>11.061466</td>\n",
       "    </tr>\n",
       "    <tr>\n",
       "      <th>seg_fe86f5</th>\n",
       "      <td>6.176760</td>\n",
       "    </tr>\n",
       "    <tr>\n",
       "      <th>seg_fea3e2</th>\n",
       "      <td>5.401085</td>\n",
       "    </tr>\n",
       "    <tr>\n",
       "      <th>seg_feb312</th>\n",
       "      <td>7.510035</td>\n",
       "    </tr>\n",
       "    <tr>\n",
       "      <th>seg_fedbd1</th>\n",
       "      <td>9.200155</td>\n",
       "    </tr>\n",
       "    <tr>\n",
       "      <th>seg_ff0f1b</th>\n",
       "      <td>4.366783</td>\n",
       "    </tr>\n",
       "    <tr>\n",
       "      <th>seg_ff1a62</th>\n",
       "      <td>9.334551</td>\n",
       "    </tr>\n",
       "    <tr>\n",
       "      <th>seg_ff2f2d</th>\n",
       "      <td>5.454544</td>\n",
       "    </tr>\n",
       "    <tr>\n",
       "      <th>seg_ff4236</th>\n",
       "      <td>6.141160</td>\n",
       "    </tr>\n",
       "    <tr>\n",
       "      <th>seg_ff7478</th>\n",
       "      <td>7.422161</td>\n",
       "    </tr>\n",
       "    <tr>\n",
       "      <th>seg_ff79d9</th>\n",
       "      <td>3.921304</td>\n",
       "    </tr>\n",
       "    <tr>\n",
       "      <th>seg_ffbd6a</th>\n",
       "      <td>1.742011</td>\n",
       "    </tr>\n",
       "    <tr>\n",
       "      <th>seg_ffe7cc</th>\n",
       "      <td>8.233313</td>\n",
       "    </tr>\n",
       "  </tbody>\n",
       "</table>\n",
       "<p>2624 rows × 1 columns</p>\n",
       "</div>"
      ],
      "text/plain": [
       "            time_to_failure\n",
       "seg_id                     \n",
       "seg_00030f         4.032515\n",
       "seg_0012b5         5.859446\n",
       "seg_00184e         6.015700\n",
       "seg_003339         8.497492\n",
       "seg_0042cc         6.468748\n",
       "seg_004314         2.941420\n",
       "seg_004cd2         8.306857\n",
       "seg_004ee5         5.004880\n",
       "seg_004f1f         4.757255\n",
       "seg_00648a         2.958845\n",
       "seg_006e4a         3.738543\n",
       "seg_007a37         4.908676\n",
       "seg_00a37e         3.544120\n",
       "seg_00be11         5.001766\n",
       "seg_00c35b         8.141470\n",
       "seg_00cc91         5.225765\n",
       "seg_00e5f7         5.926295\n",
       "seg_00f3b9         4.271032\n",
       "seg_010eab         6.597785\n",
       "seg_0125d9         4.778924\n",
       "seg_0144cb         5.403762\n",
       "seg_0165c6        10.459313\n",
       "seg_016913         3.889750\n",
       "seg_016cdb         5.420680\n",
       "seg_017314         7.002109\n",
       "seg_01a8dc         4.815362\n",
       "seg_01c775         7.976657\n",
       "seg_01ecb0         4.429214\n",
       "seg_02042f         2.008791\n",
       "seg_025e78         5.198560\n",
       "...                     ...\n",
       "seg_fcb7d0        11.926289\n",
       "seg_fcca66         4.950401\n",
       "seg_fcd32e         6.040389\n",
       "seg_fd19b8         9.337973\n",
       "seg_fd374e         6.758663\n",
       "seg_fd6340         5.098502\n",
       "seg_fd8add         6.940164\n",
       "seg_fd9ac1         5.168031\n",
       "seg_fdba93         4.849614\n",
       "seg_fdc1d4         4.338897\n",
       "seg_fdd50e         3.498441\n",
       "seg_fde767         5.788184\n",
       "seg_fde86d         7.160841\n",
       "seg_fdff11         4.160681\n",
       "seg_fe2aac         5.331171\n",
       "seg_fe5945         3.067349\n",
       "seg_fe70c0         7.626245\n",
       "seg_fe73b1        11.061466\n",
       "seg_fe86f5         6.176760\n",
       "seg_fea3e2         5.401085\n",
       "seg_feb312         7.510035\n",
       "seg_fedbd1         9.200155\n",
       "seg_ff0f1b         4.366783\n",
       "seg_ff1a62         9.334551\n",
       "seg_ff2f2d         5.454544\n",
       "seg_ff4236         6.141160\n",
       "seg_ff7478         7.422161\n",
       "seg_ff79d9         3.921304\n",
       "seg_ffbd6a         1.742011\n",
       "seg_ffe7cc         8.233313\n",
       "\n",
       "[2624 rows x 1 columns]"
      ]
     },
     "execution_count": 244,
     "metadata": {},
     "output_type": "execute_result"
    }
   ],
   "source": [
    "submission"
   ]
  },
  {
   "cell_type": "markdown",
   "metadata": {},
   "source": [
    "### To conclude:\n",
    "I used XGBoost to get current best performance on a self-constructed feature series. Including mean/var/max/min and mfcc features, further adding features might improve performance. Also data augumentation should be considered but I dont have time to implement.\n",
    "For future:\n",
    "    - data augumentation\n",
    "    - small sliding window\n",
    "    - Seq2seq prediction\n",
    "    - more ensemble"
   ]
  },
  {
   "cell_type": "code",
   "execution_count": 245,
   "metadata": {},
   "outputs": [],
   "source": [
    "ttf = np.array(submission)"
   ]
  },
  {
   "cell_type": "code",
   "execution_count": 251,
   "metadata": {},
   "outputs": [
    {
     "name": "stdout",
     "output_type": "stream",
     "text": [
      "[-0.13324684]\n",
      "[-0.16951406]\n"
     ]
    }
   ],
   "source": [
    "for t in ttf:\n",
    "    if t < delta:\n",
    "        print(t)"
   ]
  },
  {
   "cell_type": "code",
   "execution_count": null,
   "metadata": {},
   "outputs": [],
   "source": []
  }
 ],
 "metadata": {
  "kernelspec": {
   "display_name": "Python 3",
   "language": "python",
   "name": "python3"
  },
  "language_info": {
   "codemirror_mode": {
    "name": "ipython",
    "version": 3
   },
   "file_extension": ".py",
   "mimetype": "text/x-python",
   "name": "python",
   "nbconvert_exporter": "python",
   "pygments_lexer": "ipython3",
   "version": "3.6.8"
  }
 },
 "nbformat": 4,
 "nbformat_minor": 2
}
