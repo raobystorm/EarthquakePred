{
 "cells": [
  {
   "cell_type": "markdown",
   "metadata": {},
   "source": [
    "# LANL Earthquake prediction"
   ]
  },
  {
   "cell_type": "markdown",
   "metadata": {},
   "source": [
    "2019/04/10\n",
    "\n",
    "This is the very beginning of the challenge for LANL Earthquake prediction.\n",
    "While downloading first look into data addtional information"
   ]
  },
  {
   "attachments": {},
   "cell_type": "markdown",
   "metadata": {},
   "source": [
    "![](./Capture1.JPG)"
   ]
  },
  {
   "cell_type": "markdown",
   "metadata": {},
   "source": [
    "So data should be a mix of some periodic and aperiodic signals."
   ]
  },
  {
   "cell_type": "markdown",
   "metadata": {},
   "source": [
    "From the data description\n",
    "### Data fields\n",
    "acoustic_data - the seismic signal [int16]<br>\n",
    "time_to_failure - the time (in seconds) until the next laboratory earthquake [float64]<br>\n",
    "seg_id - the test segment ids for which predictions should be made (one prediction per segment)<br>\n",
    "<br>\n",
    "So it is one dimensional int16 input and continous output to predict."
   ]
  },
  {
   "attachments": {},
   "cell_type": "markdown",
   "metadata": {},
   "source": [
    "##### Trying to find some useful kernels but I got this....\n",
    "\n",
    "![Alt](./Capture2.JPG)\n",
    "\n",
    "Rest in peace..."
   ]
  },
  {
   "cell_type": "markdown",
   "metadata": {},
   "source": [
    "### Look into discussions\n",
    "\n",
    "From host there is a introdution thread:\n",
    "https://www.kaggle.com/c/LANL-Earthquake-Prediction/discussion/77525#latest-500808\n",
    "\n",
    "They listed three papers of their research, which dealt with tha same data for this competition.\n",
    "In their first paper: https://agupubs.onlinelibrary.wiley.com/doi/epdf/10.1002/2017GL074677\n",
    "\n",
    "From their abstract:\n",
    ">  These predictions are based __solely on the instantaneous physical characteristics of the acousticalsignal and do not make use of its history__. Surprisingly, machine learning identifies a signal emitted from thefault zone previously thought to be low-amplitude noise that enables failure forecasting throughout thelaboratory quake cycle. We infer that this signal originates from continuous grain motions of the fault gougeas the fault blocks displace.\n",
    "\n",
    "Their method:\n",
    "![](./Capture3.JPG)\n",
    "\n",
    "So they use a 1000-trees Random Forrest to predict the experimental failure."
   ]
  },
  {
   "cell_type": "code",
   "execution_count": null,
   "metadata": {},
   "outputs": [],
   "source": []
  }
 ],
 "metadata": {
  "kernelspec": {
   "display_name": "Python 3",
   "language": "python",
   "name": "python3"
  },
  "language_info": {
   "codemirror_mode": {
    "name": "ipython",
    "version": 3
   },
   "file_extension": ".py",
   "mimetype": "text/x-python",
   "name": "python",
   "nbconvert_exporter": "python",
   "pygments_lexer": "ipython3",
   "version": "3.6.5"
  }
 },
 "nbformat": 4,
 "nbformat_minor": 2
}
